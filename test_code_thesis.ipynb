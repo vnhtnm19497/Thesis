{
 "cells": [
  {
   "cell_type": "code",
   "execution_count": null,
   "metadata": {},
   "outputs": [],
   "source": [
    "import numpy as np\n",
    "import pandas as pd\n",
    "import matplotlib.pyplot as plt\n",
    "import math\n",
    "from erlang_2 import Erlang_2\n",
    "from erlang_1 import Erlang_1"
   ]
  },
  {
   "cell_type": "code",
   "execution_count": null,
   "metadata": {},
   "outputs": [],
   "source": [
    "lamda_list = np.random.exponential(1/0.28, 350)\n",
    "lamda_sort = np.sort(lamda_list)\n",
    "b = 0.384\n",
    "theta = 2\n",
    "gama = 0.000001\n",
    "r = 20\n",
    "C = 16.76\n",
    "df = pd.DataFrame(lamda_sort, columns=['lamda'])\n",
    "df['p0'] = [Erlang_1(lamda,b,theta,gama,r,C).pr_infinitesimal_generator() for lamda in lamda_sort]\n",
    "df['UTIL'] = [Erlang_1(lamda,b,theta,gama,r,C).coefficient() for lamda in lamda_sort]\n",
    "df['p_block'] = [Erlang_1(lamda,b,theta,gama,r,C).pr_block() for lamda in lamda_sort]\n",
    "df['mean_queue'] = [Erlang_1(lamda,b,theta,gama,r,C).mean_queue() for lamda in lamda_sort]\n",
    "df['mean_service'] = [Erlang_1(lamda,b,theta,gama,r,C).mean_service() for lamda in lamda_sort]\n",
    "df['mean_system'] = [Erlang_1(lamda,b,theta,gama,r,C).mean_system() for lamda in lamda_sort]\n",
    "df['avgtime_queue'] = [Erlang_1(lamda,b,theta,gama,r,C).mean_time_queue() for lamda in lamda_sort]\n",
    "df['avgtime_service'] = [Erlang_1(lamda,b,theta,gama,r,C).mean_time_service() for lamda in lamda_sort]\n",
    "df['avgtime_system'] = [Erlang_1(lamda,b,theta,gama,r,C).mean_time_system() for lamda in lamda_sort]\n",
    "pd.options.display.max_columns = 10\n",
    "pd.options.display.max_rows = 350"
   ]
  },
  {
   "cell_type": "code",
   "execution_count": null,
   "metadata": {},
   "outputs": [],
   "source": [
    "df"
   ]
  },
  {
   "cell_type": "code",
   "execution_count": null,
   "metadata": {},
   "outputs": [],
   "source": [
    "df.plot(x = 'lamda', y = 'UTIL', figsize=(12,8), color='red', xlabel='Входящий поток, $\\lambda$', ylabel='Коэффициент занятости ресурса UTIL',)\n",
    "plt.grid(color='black', ls='--')"
   ]
  },
  {
   "cell_type": "code",
   "execution_count": null,
   "metadata": {},
   "outputs": [],
   "source": [
    "df.plot(x = 'lamda', y = 'mean_system', figsize=(12,8), color='blue', xlabel='Входящий поток, $\\lambda$', ylabel='Среднее число заявок в системе',ls='--')\n",
    "plt.grid(color='black', ls='-')"
   ]
  },
  {
   "cell_type": "code",
   "execution_count": null,
   "metadata": {},
   "outputs": [],
   "source": [
    "df.plot(x = 'lamda', y = 'avgtime_system', figsize=(12,8), color='purple', xlabel='Входящий поток, $\\lambda$', ylabel='Среднее время в системе',ls='-.')\n",
    "plt.grid(color='black', ls='--')"
   ]
  },
  {
   "cell_type": "code",
   "execution_count": null,
   "metadata": {},
   "outputs": [],
   "source": [
    "# N <= M <= N+r\n",
    "M = 50\n",
    "eps_list = np.linspace(0.01,20)\n",
    "b = 0.384\n",
    "theta = 2\n",
    "gama = 0.000001\n",
    "r = 20\n",
    "C = 16.76\n",
    "df1 = pd.DataFrame(eps_list, columns=['epslon'])\n",
    "df1['p0'] = [Erlang_2(M,eps,b,theta,gama,r,C).pr_infinitesimal_generator() for eps in eps_list]\n",
    "df1['UTIL'] = [Erlang_2(M,eps,b,theta,gama,r,C).coefficient() for eps in eps_list]\n",
    "df1['p-block'] = [Erlang_2(M,eps,b,theta,gama,r,C).pr_block() for eps in eps_list]\n",
    "df1['mean_queue'] = [Erlang_2(M,eps,b,theta,gama,r,C).mean_queue() for eps in eps_list]\n",
    "df1['mean_serv'] = [Erlang_2(M,eps,b,theta,gama,r,C).mean_service() for eps in eps_list]\n",
    "df1['mean_sys'] = [Erlang_2(M,eps,b,theta,gama,r,C).mean_system() for eps in eps_list]\n",
    "df1['avgtime_queue'] = [Erlang_2(M,eps,b,theta,gama,r,C).mean_time_queue() for eps in eps_list]\n",
    "df1['avgtime_serv'] = [Erlang_2(M,eps,b,theta,gama,r,C).mean_time_service() for eps in eps_list]\n",
    "df1['avgtime_sys'] = [Erlang_2(M,eps,b,theta,gama,r,C).mean_time_system() for eps in eps_list]\n",
    "pd.options.display.max_columns = 10\n",
    "pd.options.display.max_rows = 400"
   ]
  },
  {
   "cell_type": "code",
   "execution_count": null,
   "metadata": {},
   "outputs": [],
   "source": [
    "M = 50\n",
    "eps_list = np.linspace(0.01,20)\n",
    "b = 0.384\n",
    "theta = 2\n",
    "gama = 0.000001\n",
    "r = 20\n",
    "C = 3500\n",
    "df2 = pd.DataFrame(eps_list, columns=['epslon'])\n",
    "df2['p0'] = [Erlang_2(M,eps,b,theta,gama,r,C).pr_infinitesimal_generator() for eps in eps_list]\n",
    "df2['UTIL'] = [Erlang_2(M,eps,b,theta,gama,r,C).coefficient() for eps in eps_list]\n",
    "df2['p-block'] = [Erlang_2(M,eps,b,theta,gama,r,C).pr_block() for eps in eps_list]\n",
    "df2['mean_queue'] = [Erlang_2(M,eps,b,theta,gama,r,C).mean_queue() for eps in eps_list]\n",
    "df2['mean_serv'] = [Erlang_2(M,eps,b,theta,gama,r,C).mean_service() for eps in eps_list]\n",
    "df2['mean_sys'] = [Erlang_2(M,eps,b,theta,gama,r,C).mean_system() for eps in eps_list]\n",
    "df2['avgtime_queue'] = [Erlang_2(M,eps,b,theta,gama,r,C).mean_time_queue() for eps in eps_list]\n",
    "df2['avgtime_serv'] = [Erlang_2(M,eps,b,theta,gama,r,C).mean_time_service() for eps in eps_list]\n",
    "df2['avgtime_sys'] = [Erlang_2(M,eps,b,theta,gama,r,C).mean_time_system() for eps in eps_list]\n",
    "pd.options.display.max_columns = 10\n",
    "pd.options.display.max_rows = 400"
   ]
  },
  {
   "cell_type": "code",
   "execution_count": null,
   "metadata": {},
   "outputs": [],
   "source": [
    "df1"
   ]
  },
  {
   "cell_type": "code",
   "execution_count": null,
   "metadata": {},
   "outputs": [],
   "source": [
    "df2"
   ]
  },
  {
   "cell_type": "code",
   "execution_count": null,
   "metadata": {},
   "outputs": [],
   "source": [
    "ax = plt.gca()\n",
    "df1.plot(kind='line',x = 'epslon', y = 'mean_queue', figsize=(12,8), color='red', xlabel='Входящий поток, $\\epsilon$', ylabel='Среднее число завявок в очереди',ls='-.',ax=ax,label='при C= 16.76')\n",
    "df2.plot(kind='line',x = 'epslon', y = 'mean_queue', figsize=(12,8), color='blue', xlabel='Входящий поток, $\\epsilon$', ylabel='Среднее число завявок в очереди',ls='--',ax=ax,label='при C = 3500')\n",
    "plt.grid(color='black', ls='-')\n",
    "plt.legend(loc='best')\n",
    "plt.show()"
   ]
  },
  {
   "cell_type": "code",
   "execution_count": null,
   "metadata": {},
   "outputs": [],
   "source": [
    "ax = plt.gca()\n",
    "df1.plot(kind='line',x = 'epslon', y = 'mean_sys', figsize=(12,8), color='red', xlabel='Входящий поток, $\\epsilon$', ylabel='Среднее число завявок в системе',ls='-',ax=ax, label='при C = 16.76')\n",
    "df2.plot(kind='line',x = 'epslon', y = 'mean_sys', figsize=(12,8), color='blue', xlabel='Входящий поток, $\\epsilon$', ylabel='Среднее число завявок в системе',ls='-.',ax=ax,label='при C = 3500')\n",
    "plt.grid(color='black', ls='--')\n",
    "plt.legend(loc='best')\n",
    "plt.show()"
   ]
  },
  {
   "cell_type": "code",
   "execution_count": null,
   "metadata": {},
   "outputs": [],
   "source": [
    "M = 50\n",
    "eps = 0.0056\n",
    "b = 0.384\n",
    "theta = 2\n",
    "gama = 0.000001\n",
    "r = 20\n",
    "C_list = np.arange(1,31,1)\n",
    "df3 = pd.DataFrame(C_list, columns=['C'])\n",
    "df3['p0'] = [Erlang_2(M,eps,b,theta,gama,r,C).pr_infinitesimal_generator() for C in C_list]\n",
    "df3['UTIL'] = [Erlang_2(M,eps,b,theta,gama,r,C).coefficient() for C in C_list]\n",
    "df3['p-block'] = [Erlang_2(M,eps,b,theta,gama,r,C).pr_block() for C in C_list]\n",
    "df3['mean_queue'] = [Erlang_2(M,eps,b,theta,gama,r,C).mean_queue() for C in C_list]\n",
    "df3['mean_serv'] = [Erlang_2(M,eps,b,theta,gama,r,C).mean_service() for C in C_list]\n",
    "df3['mean_sys'] = [Erlang_2(M,eps,b,theta,gama,r,C).mean_system() for C in C_list]\n",
    "df3['avgtime_queue'] = [Erlang_2(M,eps,b,theta,gama,r,C).mean_time_queue() for C in C_list]\n",
    "df3['avgtime_serv'] = [Erlang_2(M,eps,b,theta,gama,r,C).mean_time_service() for C in C_list]\n",
    "df3['avgtime_sys'] = [Erlang_2(M,eps,b,theta,gama,r,C).mean_time_system() for C in C_list]\n",
    "pd.options.display.max_columns = 10\n",
    "pd.options.display.max_rows = 30"
   ]
  },
  {
   "cell_type": "code",
   "execution_count": null,
   "metadata": {
    "scrolled": true
   },
   "outputs": [],
   "source": [
    "df3"
   ]
  },
  {
   "cell_type": "code",
   "execution_count": null,
   "metadata": {},
   "outputs": [],
   "source": [
    "ax = plt.gca()\n",
    "df3.plot(kind='line',x = 'C', y = 'mean_queue', figsize=(12,8), color='red', xlabel='Объём ресурса C, Мб/с', ylabel='Среднее число завявок',ls='-',ax=ax, label='в очереди')\n",
    "df3.plot(kind='line',x = 'C', y = 'mean_serv', figsize=(12,8), color='blue', xlabel='Объём ресурса C, Мб/с', ylabel='Среднее число завявок',ls='-.',ax=ax, label='на приборе')\n",
    "df3.plot(kind='line',x = 'C', y = 'mean_sys', figsize=(12,8), color='green', xlabel='Объём ресурса C, Мб/с', ylabel='Среднее число завявок',ls='--',ax=ax, label='в системе')\n",
    "plt.grid(color='black', ls='--')\n",
    "plt.legend(loc='best')\n",
    "plt.show()"
   ]
  },
  {
   "cell_type": "code",
   "execution_count": null,
   "metadata": {
    "scrolled": true
   },
   "outputs": [],
   "source": [
    "ax = plt.gca()\n",
    "df3.plot(kind='line',x = 'C', y = 'avgtime_queue', figsize=(12,8), color='red', xlabel='Объём ресурса C, Мб/с', ylabel='Среднее время',ls='-',ax=ax, label='в очереди')\n",
    "df3.plot(kind='line',x = 'C', y = 'avgtime_serv', figsize=(12,8), color='blue', xlabel='Объём ресурса C, Мб/с', ylabel='Среднее время',ls='-.',ax=ax, label='на приборе')\n",
    "df3.plot(kind='line',x = 'C', y = 'avgtime_sys', figsize=(12,8), color='green', xlabel='Объём ресурса C, Мб/с', ylabel='Среднее время',ls='--',ax=ax, label='в системе')\n",
    "plt.grid(color='black', ls='--')\n",
    "plt.legend(loc='best')\n",
    "plt.show()"
   ]
  },
  {
   "cell_type": "code",
   "execution_count": null,
   "metadata": {},
   "outputs": [],
   "source": [
    "df3.plot(x = 'C', y = 'UTIL', figsize=(12,8), color='red', xlabel='Объём ресурса, C', ylabel='Коэффициент занятости ресурса UTIL')\n",
    "plt.grid(color='black', ls='--')"
   ]
  }
 ],
 "metadata": {
  "kernelspec": {
   "display_name": "Python 3",
   "language": "python",
   "name": "python3"
  },
  "language_info": {
   "codemirror_mode": {
    "name": "ipython",
    "version": 3
   },
   "file_extension": ".py",
   "mimetype": "text/x-python",
   "name": "python",
   "nbconvert_exporter": "python",
   "pygments_lexer": "ipython3",
   "version": "3.8.6"
  }
 },
 "nbformat": 4,
 "nbformat_minor": 4
}
